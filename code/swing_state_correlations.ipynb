{
 "cells": [
  {
   "cell_type": "markdown",
   "metadata": {},
   "source": [
    "# Swing States Correlations Analysis"
   ]
  },
  {
   "cell_type": "markdown",
   "metadata": {},
   "source": [
    "> In God We Trust. All others must bring data.\n",
    "> -W. Edwards Deming\n",
    "\n",
    "US presidential elections are decided by the [Electoral College](https://en.wikipedia.org/wiki/United_States_Electoral_College). Swing states' influence over elections is disproportionate to their populations because of the Electoral College & the US's ([mostly](https://www.270towin.com/content/split-electoral-votes-maine-and-nebraska/)) winner-take-all electoral system.\n",
    "\n",
    "In the 2024 election, seven states are widely regarded as swing states:\n",
    "- Arizona\n",
    "- Georgia\n",
    "- Michigan\n",
    "- Wisconsin\n",
    "- North Carolina\n",
    "- Pennsylvania\n",
    "- Nevada\n",
    "\n",
    "Polling averages as of October 18, 2024 indicate that the two candidates are **statistically tied** in these seven states. Additionally, Nebraska's second congressional district is closely divided and could swing the election [in some scenarios](https://www.ft.com/content/714f8c07-3b2f-4862-bdf2-6878ac8c42ca).\n",
    "\n",
    "Media outlets are rife with speculation about the different possible electoral maps. For example, *The Financial Times* writes:\n",
    "\n",
    "\n",
    "> But in mathematical terms, there are scores of other pathways to winning the necessary votes in the electoral college, with and without Pennsylvania.\n",
    "> For example, either candidate could shore up support in the southern swing states, and Harris would score a big win if she could flip North Carolina — a long-standing Democratic target that Trump won by a razor-thin margin in 2016 — and its 16 electoral college votes back to the Democrats’ column.\n",
    "> Here is one way to enumerate the routes: **there are 128 combinations of possible outcomes in the seven swing states (two candidates to the seventh power)** where polls suggest the races are in effect tied.\n",
    "\n",
    "While the FT's basic math is correct, the $2^7$ possible outcomes **are not equally likely.** \n",
    "\n",
    "If they were equally likely, we'd have to believe that:\n",
    "1. the probability of Donald Trump or Kamala Harris winning each state is 50%\n",
    "2. the outcomes are independent of each other\n",
    "\n",
    "Polling supports proposition #1, but does not address claim #2.\n",
    "\n",
    "Anecdotally, recent history suggests swing state outcomes may not be independent of each other. Prior to 2016, Wisconsin, Michigan, and Pennsylvania formed part of the so-called Blue Wall of reliably Democratic Midwestern states. In 2016, these states moved *together* into Donald Trump's column; in 2020, they again moved together into Joe Biden's. \n",
    "\n",
    "I was interested in checking whether this anecdotal evidence holds up more rigorously, so I accessed data on US presidential elections since 1976 to investigate quantitatively **how strongly swing state outcomes move together** – statisticians and data scientists call this covariance."
   ]
  },
  {
   "cell_type": "markdown",
   "metadata": {},
   "source": [
    "## Hypothesis Pre-registration\n",
    "\n",
    "Recently statisticians and other quantitative researchers have moved towards a norm of pre-registering hypotheses. This is intended to prevent cherry-picking data. To contribute to this norm, I am writing my hypotheses in this notebook BEFORE any analysis. Readers can verify this by referencing the GitHub commit history and examining the \"pre-registering hypotheses\" commit.\n",
    "\n",
    "Hypotheses:\n",
    "1. The presidential election outcome in each swing state are is moderately correlated ($R^2 > 0.3$) with at least one other swing state.\n",
    "2. Swing state correlations have increased over time, as evidenced by an increase in the moving average correlation coefficient.\n",
    "3. Wisconsin, Michigan, and Pennsylvania are more highly correlated with each other than with other swing states."
   ]
  }
 ],
 "metadata": {
  "language_info": {
   "name": "python"
  }
 },
 "nbformat": 4,
 "nbformat_minor": 2
}
