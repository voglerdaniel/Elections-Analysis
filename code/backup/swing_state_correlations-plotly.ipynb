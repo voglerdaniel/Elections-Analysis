{
 "cells": [
  {
   "cell_type": "markdown",
   "metadata": {},
   "source": [
    "# Swing States Correlations Analysis"
   ]
  },
  {
   "cell_type": "markdown",
   "metadata": {},
   "source": [
    "> In God We Trust. All others must bring data.\n",
    "> -W. Edwards Deming\n",
    "\n",
    "US presidential elections are decided by the [Electoral College](https://en.wikipedia.org/wiki/United_States_Electoral_College). Swing states' influence over elections is disproportionate to their populations because of the Electoral College & the US's ([mostly](https://www.270towin.com/content/split-electoral-votes-maine-and-nebraska/)) winner-take-all electoral system.\n",
    "\n",
    "In the 2024 election, seven states are widely regarded as swing states:\n",
    "- Arizona\n",
    "- Georgia\n",
    "- Michigan\n",
    "- Wisconsin\n",
    "- North Carolina\n",
    "- Pennsylvania\n",
    "- Nevada\n",
    "\n",
    "Polling averages as of October 18, 2024 indicate that the two candidates are **statistically tied** in these seven states. Additionally, Nebraska's second congressional district is closely divided and could swing the election [in some scenarios](https://www.ft.com/content/714f8c07-3b2f-4862-bdf2-6878ac8c42ca).\n",
    "\n",
    "Media outlets are rife with speculation about the different possible electoral maps. For example, *The Financial Times* writes:\n",
    "\n",
    "\n",
    "> But in mathematical terms, there are scores of other pathways to winning the necessary votes in the electoral college, with and without Pennsylvania.\n",
    "> For example, either candidate could shore up support in the southern swing states, and Harris would score a big win if she could flip North Carolina — a long-standing Democratic target that Trump won by a razor-thin margin in 2016 — and its 16 electoral college votes back to the Democrats’ column.\n",
    "> Here is one way to enumerate the routes: **there are 128 combinations of possible outcomes in the seven swing states (two candidates to the seventh power)** where polls suggest the races are in effect tied.\n",
    "\n",
    "While the FT's basic math is correct, the $2^7$ possible outcomes **are not equally likely.** \n",
    "\n",
    "If they were equally likely, we'd have to believe that:\n",
    "1. the probability of Donald Trump or Kamala Harris winning each state is 50%\n",
    "2. the outcomes are independent of each other\n",
    "\n",
    "Polling supports proposition #1, but does not address claim #2.\n",
    "\n",
    "Anecdotally, recent history suggests swing state outcomes may not be independent of each other. Prior to 2016, Wisconsin, Michigan, and Pennsylvania formed part of the so-called Blue Wall of reliably Democratic Midwestern states. In 2016, these states moved *together* into Donald Trump's column; in 2020, they again moved together into Joe Biden's. \n",
    "\n",
    "I was interested in checking whether this anecdotal evidence holds up more rigorously, so I accessed data on US presidential elections since 1976 to investigate quantitatively **how strongly swing state outcomes move together** – statisticians and data scientists call this covariance."
   ]
  },
  {
   "cell_type": "markdown",
   "metadata": {},
   "source": [
    "## Hypothesis Pre-registration\n",
    "\n",
    "Recently statisticians and other quantitative researchers have moved towards a norm of pre-registering hypotheses. This is intended to prevent cherry-picking data. To contribute to this norm, I am writing my hypotheses in this notebook BEFORE any analysis. Readers can verify this by referencing the GitHub commit history and examining the \"pre-registering hypotheses\" commit.\n",
    "\n",
    "Hypotheses:\n",
    "1. The presidential election outcome in each swing state are is moderately correlated ($R^2 > 0.3$) with at least one other swing state.\n",
    "2. Swing state correlations have increased over time, as evidenced by an increase in the moving average correlation coefficient.\n",
    "3. Wisconsin, Michigan, and Pennsylvania are more highly correlated with each other than with other swing states."
   ]
  },
  {
   "cell_type": "markdown",
   "metadata": {},
   "source": [
    "## Data Import and Preparation"
   ]
  },
  {
   "cell_type": "code",
   "execution_count": 116,
   "metadata": {},
   "outputs": [],
   "source": [
    "import pandas as pd\n",
    "import matplotlib.pyplot as plt\n",
    "import plotly.graph_objects as go\n",
    "from plotly.subplots import make_subplots\n",
    "import seaborn as sns\n",
    "import matplotlib.colors as mcolors\n"
   ]
  },
  {
   "cell_type": "code",
   "execution_count": 67,
   "metadata": {},
   "outputs": [],
   "source": [
    "IN_SCOPE_PARTIES = {\"DEMOCRAT\", \"REPUBLICAN\"}\n",
    "SWING_STATES = {\"ARIZONA\", \"WISCONSIN\", \"MICHIGAN\", \"PENNSYLVANIA\", \"NEVADA\", \"NORTH CAROLINA\", \"GEORGIA\"}"
   ]
  },
  {
   "cell_type": "code",
   "execution_count": 68,
   "metadata": {},
   "outputs": [
    {
     "data": {
      "text/html": [
       "<div>\n",
       "<style scoped>\n",
       "    .dataframe tbody tr th:only-of-type {\n",
       "        vertical-align: middle;\n",
       "    }\n",
       "\n",
       "    .dataframe tbody tr th {\n",
       "        vertical-align: top;\n",
       "    }\n",
       "\n",
       "    .dataframe thead th {\n",
       "        text-align: right;\n",
       "    }\n",
       "</style>\n",
       "<table border=\"1\" class=\"dataframe\">\n",
       "  <thead>\n",
       "    <tr style=\"text-align: right;\">\n",
       "      <th></th>\n",
       "      <th>year</th>\n",
       "      <th>state</th>\n",
       "      <th>state_po</th>\n",
       "      <th>state_fips</th>\n",
       "      <th>state_cen</th>\n",
       "      <th>state_ic</th>\n",
       "      <th>office</th>\n",
       "      <th>candidate</th>\n",
       "      <th>party_detailed</th>\n",
       "      <th>writein</th>\n",
       "      <th>candidatevotes</th>\n",
       "      <th>totalvotes</th>\n",
       "      <th>version</th>\n",
       "      <th>notes</th>\n",
       "      <th>party_simplified</th>\n",
       "    </tr>\n",
       "  </thead>\n",
       "  <tbody>\n",
       "    <tr>\n",
       "      <th>0</th>\n",
       "      <td>1976</td>\n",
       "      <td>ALABAMA</td>\n",
       "      <td>AL</td>\n",
       "      <td>1</td>\n",
       "      <td>63</td>\n",
       "      <td>41</td>\n",
       "      <td>US PRESIDENT</td>\n",
       "      <td>CARTER, JIMMY</td>\n",
       "      <td>DEMOCRAT</td>\n",
       "      <td>False</td>\n",
       "      <td>659170</td>\n",
       "      <td>1182850</td>\n",
       "      <td>20210113</td>\n",
       "      <td>NaN</td>\n",
       "      <td>DEMOCRAT</td>\n",
       "    </tr>\n",
       "    <tr>\n",
       "      <th>1</th>\n",
       "      <td>1976</td>\n",
       "      <td>ALABAMA</td>\n",
       "      <td>AL</td>\n",
       "      <td>1</td>\n",
       "      <td>63</td>\n",
       "      <td>41</td>\n",
       "      <td>US PRESIDENT</td>\n",
       "      <td>FORD, GERALD</td>\n",
       "      <td>REPUBLICAN</td>\n",
       "      <td>False</td>\n",
       "      <td>504070</td>\n",
       "      <td>1182850</td>\n",
       "      <td>20210113</td>\n",
       "      <td>NaN</td>\n",
       "      <td>REPUBLICAN</td>\n",
       "    </tr>\n",
       "    <tr>\n",
       "      <th>2</th>\n",
       "      <td>1976</td>\n",
       "      <td>ALABAMA</td>\n",
       "      <td>AL</td>\n",
       "      <td>1</td>\n",
       "      <td>63</td>\n",
       "      <td>41</td>\n",
       "      <td>US PRESIDENT</td>\n",
       "      <td>MADDOX, LESTER</td>\n",
       "      <td>AMERICAN INDEPENDENT PARTY</td>\n",
       "      <td>False</td>\n",
       "      <td>9198</td>\n",
       "      <td>1182850</td>\n",
       "      <td>20210113</td>\n",
       "      <td>NaN</td>\n",
       "      <td>OTHER</td>\n",
       "    </tr>\n",
       "    <tr>\n",
       "      <th>3</th>\n",
       "      <td>1976</td>\n",
       "      <td>ALABAMA</td>\n",
       "      <td>AL</td>\n",
       "      <td>1</td>\n",
       "      <td>63</td>\n",
       "      <td>41</td>\n",
       "      <td>US PRESIDENT</td>\n",
       "      <td>BUBAR, BENJAMIN \"\"BEN\"\"</td>\n",
       "      <td>PROHIBITION</td>\n",
       "      <td>False</td>\n",
       "      <td>6669</td>\n",
       "      <td>1182850</td>\n",
       "      <td>20210113</td>\n",
       "      <td>NaN</td>\n",
       "      <td>OTHER</td>\n",
       "    </tr>\n",
       "    <tr>\n",
       "      <th>4</th>\n",
       "      <td>1976</td>\n",
       "      <td>ALABAMA</td>\n",
       "      <td>AL</td>\n",
       "      <td>1</td>\n",
       "      <td>63</td>\n",
       "      <td>41</td>\n",
       "      <td>US PRESIDENT</td>\n",
       "      <td>HALL, GUS</td>\n",
       "      <td>COMMUNIST PARTY USE</td>\n",
       "      <td>False</td>\n",
       "      <td>1954</td>\n",
       "      <td>1182850</td>\n",
       "      <td>20210113</td>\n",
       "      <td>NaN</td>\n",
       "      <td>OTHER</td>\n",
       "    </tr>\n",
       "  </tbody>\n",
       "</table>\n",
       "</div>"
      ],
      "text/plain": [
       "   year    state state_po  state_fips  state_cen  state_ic        office  \\\n",
       "0  1976  ALABAMA       AL           1         63        41  US PRESIDENT   \n",
       "1  1976  ALABAMA       AL           1         63        41  US PRESIDENT   \n",
       "2  1976  ALABAMA       AL           1         63        41  US PRESIDENT   \n",
       "3  1976  ALABAMA       AL           1         63        41  US PRESIDENT   \n",
       "4  1976  ALABAMA       AL           1         63        41  US PRESIDENT   \n",
       "\n",
       "                 candidate              party_detailed writein  \\\n",
       "0            CARTER, JIMMY                    DEMOCRAT   False   \n",
       "1             FORD, GERALD                  REPUBLICAN   False   \n",
       "2           MADDOX, LESTER  AMERICAN INDEPENDENT PARTY   False   \n",
       "3  BUBAR, BENJAMIN \"\"BEN\"\"                 PROHIBITION   False   \n",
       "4                HALL, GUS         COMMUNIST PARTY USE   False   \n",
       "\n",
       "   candidatevotes  totalvotes   version  notes party_simplified  \n",
       "0          659170     1182850  20210113    NaN         DEMOCRAT  \n",
       "1          504070     1182850  20210113    NaN       REPUBLICAN  \n",
       "2            9198     1182850  20210113    NaN            OTHER  \n",
       "3            6669     1182850  20210113    NaN            OTHER  \n",
       "4            1954     1182850  20210113    NaN            OTHER  "
      ]
     },
     "execution_count": 68,
     "metadata": {},
     "output_type": "execute_result"
    }
   ],
   "source": [
    "data_path = \"../data/us_elections_1976-2020.csv\"\n",
    "\n",
    "raw_df = pd.read_csv(data_path)\n",
    "\n",
    "raw_df.head()"
   ]
  },
  {
   "cell_type": "code",
   "execution_count": 69,
   "metadata": {},
   "outputs": [
    {
     "name": "stdout",
     "output_type": "stream",
     "text": [
      "year\n",
      "state\n",
      "state_po\n",
      "state_fips\n",
      "state_cen\n",
      "state_ic\n",
      "office\n",
      "candidate\n",
      "party_detailed\n",
      "writein\n",
      "candidatevotes\n",
      "totalvotes\n",
      "version\n",
      "notes\n",
      "party_simplified\n"
     ]
    }
   ],
   "source": [
    "print(\"\\n\".join(list(raw_df.columns)))"
   ]
  },
  {
   "cell_type": "code",
   "execution_count": 70,
   "metadata": {},
   "outputs": [
    {
     "data": {
      "text/plain": [
       "{'US PRESIDENT'}"
      ]
     },
     "execution_count": 70,
     "metadata": {},
     "output_type": "execute_result"
    }
   ],
   "source": [
    "set(raw_df[\"office\"])"
   ]
  },
  {
   "cell_type": "code",
   "execution_count": 71,
   "metadata": {},
   "outputs": [
    {
     "data": {
      "text/html": [
       "<div>\n",
       "<style scoped>\n",
       "    .dataframe tbody tr th:only-of-type {\n",
       "        vertical-align: middle;\n",
       "    }\n",
       "\n",
       "    .dataframe tbody tr th {\n",
       "        vertical-align: top;\n",
       "    }\n",
       "\n",
       "    .dataframe thead th {\n",
       "        text-align: right;\n",
       "    }\n",
       "</style>\n",
       "<table border=\"1\" class=\"dataframe\">\n",
       "  <thead>\n",
       "    <tr style=\"text-align: right;\">\n",
       "      <th></th>\n",
       "      <th>year</th>\n",
       "      <th>state</th>\n",
       "      <th>candidate</th>\n",
       "      <th>candidatevotes</th>\n",
       "      <th>totalvotes</th>\n",
       "      <th>party_detailed</th>\n",
       "      <th>party_simplified</th>\n",
       "    </tr>\n",
       "  </thead>\n",
       "  <tbody>\n",
       "    <tr>\n",
       "      <th>0</th>\n",
       "      <td>1976</td>\n",
       "      <td>ALABAMA</td>\n",
       "      <td>CARTER, JIMMY</td>\n",
       "      <td>659170</td>\n",
       "      <td>1182850</td>\n",
       "      <td>DEMOCRAT</td>\n",
       "      <td>DEMOCRAT</td>\n",
       "    </tr>\n",
       "    <tr>\n",
       "      <th>1</th>\n",
       "      <td>1976</td>\n",
       "      <td>ALABAMA</td>\n",
       "      <td>FORD, GERALD</td>\n",
       "      <td>504070</td>\n",
       "      <td>1182850</td>\n",
       "      <td>REPUBLICAN</td>\n",
       "      <td>REPUBLICAN</td>\n",
       "    </tr>\n",
       "    <tr>\n",
       "      <th>2</th>\n",
       "      <td>1976</td>\n",
       "      <td>ALABAMA</td>\n",
       "      <td>MADDOX, LESTER</td>\n",
       "      <td>9198</td>\n",
       "      <td>1182850</td>\n",
       "      <td>AMERICAN INDEPENDENT PARTY</td>\n",
       "      <td>OTHER</td>\n",
       "    </tr>\n",
       "    <tr>\n",
       "      <th>3</th>\n",
       "      <td>1976</td>\n",
       "      <td>ALABAMA</td>\n",
       "      <td>BUBAR, BENJAMIN \"\"BEN\"\"</td>\n",
       "      <td>6669</td>\n",
       "      <td>1182850</td>\n",
       "      <td>PROHIBITION</td>\n",
       "      <td>OTHER</td>\n",
       "    </tr>\n",
       "    <tr>\n",
       "      <th>4</th>\n",
       "      <td>1976</td>\n",
       "      <td>ALABAMA</td>\n",
       "      <td>HALL, GUS</td>\n",
       "      <td>1954</td>\n",
       "      <td>1182850</td>\n",
       "      <td>COMMUNIST PARTY USE</td>\n",
       "      <td>OTHER</td>\n",
       "    </tr>\n",
       "  </tbody>\n",
       "</table>\n",
       "</div>"
      ],
      "text/plain": [
       "   year    state                candidate  candidatevotes  totalvotes  \\\n",
       "0  1976  ALABAMA            CARTER, JIMMY          659170     1182850   \n",
       "1  1976  ALABAMA             FORD, GERALD          504070     1182850   \n",
       "2  1976  ALABAMA           MADDOX, LESTER            9198     1182850   \n",
       "3  1976  ALABAMA  BUBAR, BENJAMIN \"\"BEN\"\"            6669     1182850   \n",
       "4  1976  ALABAMA                HALL, GUS            1954     1182850   \n",
       "\n",
       "               party_detailed party_simplified  \n",
       "0                    DEMOCRAT         DEMOCRAT  \n",
       "1                  REPUBLICAN       REPUBLICAN  \n",
       "2  AMERICAN INDEPENDENT PARTY            OTHER  \n",
       "3                 PROHIBITION            OTHER  \n",
       "4         COMMUNIST PARTY USE            OTHER  "
      ]
     },
     "execution_count": 71,
     "metadata": {},
     "output_type": "execute_result"
    }
   ],
   "source": [
    "compact_df = raw_df[[\"year\",\n",
    "                     \"state\",\n",
    "                     \"candidate\",\n",
    "                     \"candidatevotes\",\n",
    "                     \"totalvotes\",\n",
    "                     \"party_detailed\",\n",
    "                     \"party_simplified\"]]\n",
    "\n",
    "compact_df.head()"
   ]
  },
  {
   "cell_type": "code",
   "execution_count": 72,
   "metadata": {},
   "outputs": [
    {
     "data": {
      "text/html": [
       "<div>\n",
       "<style scoped>\n",
       "    .dataframe tbody tr th:only-of-type {\n",
       "        vertical-align: middle;\n",
       "    }\n",
       "\n",
       "    .dataframe tbody tr th {\n",
       "        vertical-align: top;\n",
       "    }\n",
       "\n",
       "    .dataframe thead th {\n",
       "        text-align: right;\n",
       "    }\n",
       "</style>\n",
       "<table border=\"1\" class=\"dataframe\">\n",
       "  <thead>\n",
       "    <tr style=\"text-align: right;\">\n",
       "      <th></th>\n",
       "      <th>year</th>\n",
       "      <th>state</th>\n",
       "      <th>candidate</th>\n",
       "      <th>candidatevotes</th>\n",
       "      <th>totalvotes</th>\n",
       "      <th>party_detailed</th>\n",
       "      <th>party_simplified</th>\n",
       "    </tr>\n",
       "  </thead>\n",
       "  <tbody>\n",
       "    <tr>\n",
       "      <th>0</th>\n",
       "      <td>1976</td>\n",
       "      <td>ALABAMA</td>\n",
       "      <td>CARTER, JIMMY</td>\n",
       "      <td>659170</td>\n",
       "      <td>1182850</td>\n",
       "      <td>DEMOCRAT</td>\n",
       "      <td>DEMOCRAT</td>\n",
       "    </tr>\n",
       "    <tr>\n",
       "      <th>1</th>\n",
       "      <td>1976</td>\n",
       "      <td>ALABAMA</td>\n",
       "      <td>FORD, GERALD</td>\n",
       "      <td>504070</td>\n",
       "      <td>1182850</td>\n",
       "      <td>REPUBLICAN</td>\n",
       "      <td>REPUBLICAN</td>\n",
       "    </tr>\n",
       "    <tr>\n",
       "      <th>7</th>\n",
       "      <td>1976</td>\n",
       "      <td>ALASKA</td>\n",
       "      <td>FORD, GERALD</td>\n",
       "      <td>71555</td>\n",
       "      <td>123574</td>\n",
       "      <td>REPUBLICAN</td>\n",
       "      <td>REPUBLICAN</td>\n",
       "    </tr>\n",
       "    <tr>\n",
       "      <th>8</th>\n",
       "      <td>1976</td>\n",
       "      <td>ALASKA</td>\n",
       "      <td>CARTER, JIMMY</td>\n",
       "      <td>44058</td>\n",
       "      <td>123574</td>\n",
       "      <td>DEMOCRAT</td>\n",
       "      <td>DEMOCRAT</td>\n",
       "    </tr>\n",
       "    <tr>\n",
       "      <th>11</th>\n",
       "      <td>1976</td>\n",
       "      <td>ARIZONA</td>\n",
       "      <td>FORD, GERALD</td>\n",
       "      <td>418642</td>\n",
       "      <td>742719</td>\n",
       "      <td>REPUBLICAN</td>\n",
       "      <td>REPUBLICAN</td>\n",
       "    </tr>\n",
       "  </tbody>\n",
       "</table>\n",
       "</div>"
      ],
      "text/plain": [
       "    year    state      candidate  candidatevotes  totalvotes party_detailed  \\\n",
       "0   1976  ALABAMA  CARTER, JIMMY          659170     1182850       DEMOCRAT   \n",
       "1   1976  ALABAMA   FORD, GERALD          504070     1182850     REPUBLICAN   \n",
       "7   1976   ALASKA   FORD, GERALD           71555      123574     REPUBLICAN   \n",
       "8   1976   ALASKA  CARTER, JIMMY           44058      123574       DEMOCRAT   \n",
       "11  1976  ARIZONA   FORD, GERALD          418642      742719     REPUBLICAN   \n",
       "\n",
       "   party_simplified  \n",
       "0          DEMOCRAT  \n",
       "1        REPUBLICAN  \n",
       "7        REPUBLICAN  \n",
       "8          DEMOCRAT  \n",
       "11       REPUBLICAN  "
      ]
     },
     "execution_count": 72,
     "metadata": {},
     "output_type": "execute_result"
    }
   ],
   "source": [
    "major_parties_df = compact_df[compact_df[\"party_detailed\"].isin(IN_SCOPE_PARTIES)]\n",
    "\n",
    "major_parties_df.head()"
   ]
  },
  {
   "cell_type": "code",
   "execution_count": 73,
   "metadata": {},
   "outputs": [
    {
     "data": {
      "text/html": [
       "<div>\n",
       "<style scoped>\n",
       "    .dataframe tbody tr th:only-of-type {\n",
       "        vertical-align: middle;\n",
       "    }\n",
       "\n",
       "    .dataframe tbody tr th {\n",
       "        vertical-align: top;\n",
       "    }\n",
       "\n",
       "    .dataframe thead th {\n",
       "        text-align: right;\n",
       "    }\n",
       "</style>\n",
       "<table border=\"1\" class=\"dataframe\">\n",
       "  <thead>\n",
       "    <tr style=\"text-align: right;\">\n",
       "      <th></th>\n",
       "      <th>year</th>\n",
       "      <th>state</th>\n",
       "      <th>candidate</th>\n",
       "      <th>candidatevotes</th>\n",
       "      <th>totalvotes</th>\n",
       "      <th>party_detailed</th>\n",
       "      <th>party_simplified</th>\n",
       "    </tr>\n",
       "  </thead>\n",
       "  <tbody>\n",
       "    <tr>\n",
       "      <th>11</th>\n",
       "      <td>1976</td>\n",
       "      <td>ARIZONA</td>\n",
       "      <td>FORD, GERALD</td>\n",
       "      <td>418642</td>\n",
       "      <td>742719</td>\n",
       "      <td>REPUBLICAN</td>\n",
       "      <td>REPUBLICAN</td>\n",
       "    </tr>\n",
       "    <tr>\n",
       "      <th>12</th>\n",
       "      <td>1976</td>\n",
       "      <td>ARIZONA</td>\n",
       "      <td>CARTER, JIMMY</td>\n",
       "      <td>295602</td>\n",
       "      <td>742719</td>\n",
       "      <td>DEMOCRAT</td>\n",
       "      <td>DEMOCRAT</td>\n",
       "    </tr>\n",
       "    <tr>\n",
       "      <th>60</th>\n",
       "      <td>1976</td>\n",
       "      <td>GEORGIA</td>\n",
       "      <td>CARTER, JIMMY</td>\n",
       "      <td>979409</td>\n",
       "      <td>1463152</td>\n",
       "      <td>DEMOCRAT</td>\n",
       "      <td>DEMOCRAT</td>\n",
       "    </tr>\n",
       "    <tr>\n",
       "      <th>61</th>\n",
       "      <td>1976</td>\n",
       "      <td>GEORGIA</td>\n",
       "      <td>FORD, GERALD</td>\n",
       "      <td>483743</td>\n",
       "      <td>1463152</td>\n",
       "      <td>REPUBLICAN</td>\n",
       "      <td>REPUBLICAN</td>\n",
       "    </tr>\n",
       "    <tr>\n",
       "      <th>133</th>\n",
       "      <td>1976</td>\n",
       "      <td>MICHIGAN</td>\n",
       "      <td>FORD, GERALD</td>\n",
       "      <td>1893742</td>\n",
       "      <td>3651590</td>\n",
       "      <td>REPUBLICAN</td>\n",
       "      <td>REPUBLICAN</td>\n",
       "    </tr>\n",
       "  </tbody>\n",
       "</table>\n",
       "</div>"
      ],
      "text/plain": [
       "     year     state      candidate  candidatevotes  totalvotes party_detailed  \\\n",
       "11   1976   ARIZONA   FORD, GERALD          418642      742719     REPUBLICAN   \n",
       "12   1976   ARIZONA  CARTER, JIMMY          295602      742719       DEMOCRAT   \n",
       "60   1976   GEORGIA  CARTER, JIMMY          979409     1463152       DEMOCRAT   \n",
       "61   1976   GEORGIA   FORD, GERALD          483743     1463152     REPUBLICAN   \n",
       "133  1976  MICHIGAN   FORD, GERALD         1893742     3651590     REPUBLICAN   \n",
       "\n",
       "    party_simplified  \n",
       "11        REPUBLICAN  \n",
       "12          DEMOCRAT  \n",
       "60          DEMOCRAT  \n",
       "61        REPUBLICAN  \n",
       "133       REPUBLICAN  "
      ]
     },
     "execution_count": 73,
     "metadata": {},
     "output_type": "execute_result"
    }
   ],
   "source": [
    "swing_state_df = major_parties_df[major_parties_df[\"state\"].isin(SWING_STATES)]\n",
    "swing_state_df.head()"
   ]
  },
  {
   "cell_type": "code",
   "execution_count": 74,
   "metadata": {},
   "outputs": [
    {
     "name": "stderr",
     "output_type": "stream",
     "text": [
      "/var/folders/4b/m5nrgw957519qfykv2lpzg_80000gp/T/ipykernel_12275/1946419442.py:1: SettingWithCopyWarning: \n",
      "A value is trying to be set on a copy of a slice from a DataFrame.\n",
      "Try using .loc[row_indexer,col_indexer] = value instead\n",
      "\n",
      "See the caveats in the documentation: https://pandas.pydata.org/pandas-docs/stable/user_guide/indexing.html#returning-a-view-versus-a-copy\n",
      "  swing_state_df.loc[:,\"vote_pct\"] = swing_state_df[\"candidatevotes\"] / swing_state_df[\"totalvotes\"]\n"
     ]
    },
    {
     "data": {
      "text/html": [
       "<div>\n",
       "<style scoped>\n",
       "    .dataframe tbody tr th:only-of-type {\n",
       "        vertical-align: middle;\n",
       "    }\n",
       "\n",
       "    .dataframe tbody tr th {\n",
       "        vertical-align: top;\n",
       "    }\n",
       "\n",
       "    .dataframe thead th {\n",
       "        text-align: right;\n",
       "    }\n",
       "</style>\n",
       "<table border=\"1\" class=\"dataframe\">\n",
       "  <thead>\n",
       "    <tr style=\"text-align: right;\">\n",
       "      <th></th>\n",
       "      <th>year</th>\n",
       "      <th>state</th>\n",
       "      <th>candidate</th>\n",
       "      <th>candidatevotes</th>\n",
       "      <th>totalvotes</th>\n",
       "      <th>party_detailed</th>\n",
       "      <th>party_simplified</th>\n",
       "      <th>vote_pct</th>\n",
       "    </tr>\n",
       "  </thead>\n",
       "  <tbody>\n",
       "    <tr>\n",
       "      <th>11</th>\n",
       "      <td>1976</td>\n",
       "      <td>ARIZONA</td>\n",
       "      <td>FORD, GERALD</td>\n",
       "      <td>418642</td>\n",
       "      <td>742719</td>\n",
       "      <td>REPUBLICAN</td>\n",
       "      <td>REPUBLICAN</td>\n",
       "      <td>0.563661</td>\n",
       "    </tr>\n",
       "    <tr>\n",
       "      <th>12</th>\n",
       "      <td>1976</td>\n",
       "      <td>ARIZONA</td>\n",
       "      <td>CARTER, JIMMY</td>\n",
       "      <td>295602</td>\n",
       "      <td>742719</td>\n",
       "      <td>DEMOCRAT</td>\n",
       "      <td>DEMOCRAT</td>\n",
       "      <td>0.398000</td>\n",
       "    </tr>\n",
       "    <tr>\n",
       "      <th>60</th>\n",
       "      <td>1976</td>\n",
       "      <td>GEORGIA</td>\n",
       "      <td>CARTER, JIMMY</td>\n",
       "      <td>979409</td>\n",
       "      <td>1463152</td>\n",
       "      <td>DEMOCRAT</td>\n",
       "      <td>DEMOCRAT</td>\n",
       "      <td>0.669383</td>\n",
       "    </tr>\n",
       "    <tr>\n",
       "      <th>61</th>\n",
       "      <td>1976</td>\n",
       "      <td>GEORGIA</td>\n",
       "      <td>FORD, GERALD</td>\n",
       "      <td>483743</td>\n",
       "      <td>1463152</td>\n",
       "      <td>REPUBLICAN</td>\n",
       "      <td>REPUBLICAN</td>\n",
       "      <td>0.330617</td>\n",
       "    </tr>\n",
       "    <tr>\n",
       "      <th>133</th>\n",
       "      <td>1976</td>\n",
       "      <td>MICHIGAN</td>\n",
       "      <td>FORD, GERALD</td>\n",
       "      <td>1893742</td>\n",
       "      <td>3651590</td>\n",
       "      <td>REPUBLICAN</td>\n",
       "      <td>REPUBLICAN</td>\n",
       "      <td>0.518608</td>\n",
       "    </tr>\n",
       "  </tbody>\n",
       "</table>\n",
       "</div>"
      ],
      "text/plain": [
       "     year     state      candidate  candidatevotes  totalvotes party_detailed  \\\n",
       "11   1976   ARIZONA   FORD, GERALD          418642      742719     REPUBLICAN   \n",
       "12   1976   ARIZONA  CARTER, JIMMY          295602      742719       DEMOCRAT   \n",
       "60   1976   GEORGIA  CARTER, JIMMY          979409     1463152       DEMOCRAT   \n",
       "61   1976   GEORGIA   FORD, GERALD          483743     1463152     REPUBLICAN   \n",
       "133  1976  MICHIGAN   FORD, GERALD         1893742     3651590     REPUBLICAN   \n",
       "\n",
       "    party_simplified  vote_pct  \n",
       "11        REPUBLICAN  0.563661  \n",
       "12          DEMOCRAT  0.398000  \n",
       "60          DEMOCRAT  0.669383  \n",
       "61        REPUBLICAN  0.330617  \n",
       "133       REPUBLICAN  0.518608  "
      ]
     },
     "execution_count": 74,
     "metadata": {},
     "output_type": "execute_result"
    }
   ],
   "source": [
    "swing_state_df.loc[:,\"vote_pct\"] = swing_state_df[\"candidatevotes\"] / swing_state_df[\"totalvotes\"]\n",
    "swing_state_df.head()"
   ]
  },
  {
   "cell_type": "code",
   "execution_count": 75,
   "metadata": {},
   "outputs": [],
   "source": [
    "pivoted_df = swing_state_df.pivot(index=[\"year\", \"state\", \"candidate\"], columns = [\"party_detailed\"], values=\"vote_pct\")"
   ]
  },
  {
   "cell_type": "code",
   "execution_count": 88,
   "metadata": {},
   "outputs": [
    {
     "data": {
      "text/html": [
       "<div>\n",
       "<style scoped>\n",
       "    .dataframe tbody tr th:only-of-type {\n",
       "        vertical-align: middle;\n",
       "    }\n",
       "\n",
       "    .dataframe tbody tr th {\n",
       "        vertical-align: top;\n",
       "    }\n",
       "\n",
       "    .dataframe thead th {\n",
       "        text-align: right;\n",
       "    }\n",
       "</style>\n",
       "<table border=\"1\" class=\"dataframe\">\n",
       "  <thead>\n",
       "    <tr style=\"text-align: right;\">\n",
       "      <th></th>\n",
       "      <th>party_detailed</th>\n",
       "      <th>DEMOCRAT</th>\n",
       "      <th>REPUBLICAN</th>\n",
       "    </tr>\n",
       "    <tr>\n",
       "      <th>year</th>\n",
       "      <th>state</th>\n",
       "      <th></th>\n",
       "      <th></th>\n",
       "    </tr>\n",
       "  </thead>\n",
       "  <tbody>\n",
       "    <tr>\n",
       "      <th rowspan=\"5\" valign=\"top\">1976</th>\n",
       "      <th>ARIZONA</th>\n",
       "      <td>39.80</td>\n",
       "      <td>56.37</td>\n",
       "    </tr>\n",
       "    <tr>\n",
       "      <th>GEORGIA</th>\n",
       "      <td>66.94</td>\n",
       "      <td>33.06</td>\n",
       "    </tr>\n",
       "    <tr>\n",
       "      <th>MICHIGAN</th>\n",
       "      <td>46.47</td>\n",
       "      <td>51.86</td>\n",
       "    </tr>\n",
       "    <tr>\n",
       "      <th>NEVADA</th>\n",
       "      <td>45.81</td>\n",
       "      <td>50.17</td>\n",
       "    </tr>\n",
       "    <tr>\n",
       "      <th>NORTH CAROLINA</th>\n",
       "      <td>55.27</td>\n",
       "      <td>44.22</td>\n",
       "    </tr>\n",
       "    <tr>\n",
       "      <th>...</th>\n",
       "      <th>...</th>\n",
       "      <td>...</td>\n",
       "      <td>...</td>\n",
       "    </tr>\n",
       "    <tr>\n",
       "      <th rowspan=\"5\" valign=\"top\">2020</th>\n",
       "      <th>MICHIGAN</th>\n",
       "      <td>50.62</td>\n",
       "      <td>47.84</td>\n",
       "    </tr>\n",
       "    <tr>\n",
       "      <th>NEVADA</th>\n",
       "      <td>50.06</td>\n",
       "      <td>47.67</td>\n",
       "    </tr>\n",
       "    <tr>\n",
       "      <th>NORTH CAROLINA</th>\n",
       "      <td>48.59</td>\n",
       "      <td>49.93</td>\n",
       "    </tr>\n",
       "    <tr>\n",
       "      <th>PENNSYLVANIA</th>\n",
       "      <td>50.01</td>\n",
       "      <td>48.84</td>\n",
       "    </tr>\n",
       "    <tr>\n",
       "      <th>WISCONSIN</th>\n",
       "      <td>49.45</td>\n",
       "      <td>48.82</td>\n",
       "    </tr>\n",
       "  </tbody>\n",
       "</table>\n",
       "<p>84 rows × 2 columns</p>\n",
       "</div>"
      ],
      "text/plain": [
       "party_detailed       DEMOCRAT  REPUBLICAN\n",
       "year state                               \n",
       "1976 ARIZONA            39.80       56.37\n",
       "     GEORGIA            66.94       33.06\n",
       "     MICHIGAN           46.47       51.86\n",
       "     NEVADA             45.81       50.17\n",
       "     NORTH CAROLINA     55.27       44.22\n",
       "...                       ...         ...\n",
       "2020 MICHIGAN           50.62       47.84\n",
       "     NEVADA             50.06       47.67\n",
       "     NORTH CAROLINA     48.59       49.93\n",
       "     PENNSYLVANIA       50.01       48.84\n",
       "     WISCONSIN          49.45       48.82\n",
       "\n",
       "[84 rows x 2 columns]"
      ]
     },
     "execution_count": 88,
     "metadata": {},
     "output_type": "execute_result"
    }
   ],
   "source": [
    "party_share_df = pivoted_df.groupby([\"year\", \"state\"]).agg(\"sum\")\n",
    "\n",
    "PCT_ADJ = 100\n",
    "\n",
    "party_share_df[\"DEMOCRAT\"] = round(party_share_df[\"DEMOCRAT\"] * PCT_ADJ,2) # clean up formatting\n",
    "party_share_df[\"REPUBLICAN\"] = round(party_share_df[\"REPUBLICAN\"] * PCT_ADJ,2)\n",
    "\n",
    "party_share_df"
   ]
  },
  {
   "cell_type": "markdown",
   "metadata": {},
   "source": [
    "## Analysis"
   ]
  },
  {
   "cell_type": "code",
   "execution_count": 89,
   "metadata": {},
   "outputs": [
    {
     "data": {
      "application/vnd.plotly.v1+json": {
       "config": {
        "plotlyServerURL": "https://plot.ly"
       },
       "data": [
        {
         "line": {
          "color": "blue"
         },
         "mode": "lines+markers",
         "name": "Democrat",
         "showlegend": true,
         "type": "scatter",
         "x": [
          1976,
          1980,
          1984,
          1988,
          1992,
          1996,
          2000,
          2004,
          2008,
          2012,
          2016,
          2020
         ],
         "xaxis": "x",
         "y": [
          39.8,
          28.24,
          32.54,
          38.74,
          36.52,
          46.52,
          44.73,
          44.4,
          45.12,
          44.59,
          45.13,
          49.36
         ],
         "yaxis": "y"
        },
        {
         "line": {
          "color": "red"
         },
         "mode": "lines+markers",
         "name": "Republican",
         "showlegend": true,
         "type": "scatter",
         "x": [
          1976,
          1980,
          1984,
          1988,
          1992,
          1996,
          2000,
          2004,
          2008,
          2012,
          2016,
          2020
         ],
         "xaxis": "x",
         "y": [
          56.37,
          60.61,
          66.42,
          59.95,
          38.47,
          44.29,
          51.02,
          54.87,
          53.64,
          53.65,
          48.67,
          49.06
         ],
         "yaxis": "y"
        },
        {
         "line": {
          "color": "blue"
         },
         "mode": "lines+markers",
         "name": "Democrat",
         "showlegend": false,
         "type": "scatter",
         "x": [
          1976,
          1980,
          1984,
          1988,
          1992,
          1996,
          2000,
          2004,
          2008,
          2012,
          2016,
          2020
         ],
         "xaxis": "x2",
         "y": [
          66.94,
          55.8,
          39.79,
          39.5,
          43.47,
          45.84,
          43.21,
          41.37,
          46.99,
          45.51,
          45.64,
          49.47
         ],
         "yaxis": "y2"
        },
        {
         "line": {
          "color": "red"
         },
         "mode": "lines+markers",
         "name": "Republican",
         "showlegend": false,
         "type": "scatter",
         "x": [
          1976,
          1980,
          1984,
          1988,
          1992,
          1996,
          2000,
          2004,
          2008,
          2012,
          2016,
          2020
         ],
         "xaxis": "x2",
         "y": [
          33.06,
          40.97,
          60.17,
          59.75,
          42.88,
          47.02,
          54.96,
          57.97,
          52.2,
          53.33,
          50.77,
          49.24
         ],
         "yaxis": "y2"
        },
        {
         "line": {
          "color": "blue"
         },
         "mode": "lines+markers",
         "name": "Democrat",
         "showlegend": false,
         "type": "scatter",
         "x": [
          1976,
          1980,
          1984,
          1988,
          1992,
          1996,
          2000,
          2004,
          2008,
          2012,
          2016,
          2020
         ],
         "xaxis": "x3",
         "y": [
          46.47,
          42.5,
          40.24,
          45.67,
          43.77,
          51.69,
          51.28,
          51.23,
          57.43,
          54.21,
          47.27,
          50.62
         ],
         "yaxis": "y3"
        },
        {
         "line": {
          "color": "red"
         },
         "mode": "lines+markers",
         "name": "Republican",
         "showlegend": false,
         "type": "scatter",
         "x": [
          1976,
          1980,
          1984,
          1988,
          1992,
          1996,
          2000,
          2004,
          2008,
          2012,
          2016,
          2020
         ],
         "xaxis": "x3",
         "y": [
          51.86,
          48.99,
          59.23,
          53.57,
          36.38,
          38.48,
          46.15,
          47.81,
          40.96,
          44.71,
          47.5,
          47.84
         ],
         "yaxis": "y3"
        },
        {
         "line": {
          "color": "blue"
         },
         "mode": "lines+markers",
         "name": "Democrat",
         "showlegend": false,
         "type": "scatter",
         "x": [
          1976,
          1980,
          1984,
          1988,
          1992,
          1996,
          2000,
          2004,
          2008,
          2012,
          2016,
          2020
         ],
         "xaxis": "x4",
         "y": [
          45.81,
          27.36,
          32.42,
          38.68,
          37.36,
          43.93,
          45.94,
          47.88,
          55.15,
          52.36,
          47.92,
          50.06
         ],
         "yaxis": "y4"
        },
        {
         "line": {
          "color": "red"
         },
         "mode": "lines+markers",
         "name": "Republican",
         "showlegend": false,
         "type": "scatter",
         "x": [
          1976,
          1980,
          1984,
          1988,
          1992,
          1996,
          2000,
          2004,
          2008,
          2012,
          2016,
          2020
         ],
         "xaxis": "x4",
         "y": [
          50.17,
          63.61,
          66.77,
          60.05,
          34.73,
          42.91,
          49.49,
          50.47,
          42.65,
          45.68,
          45.5,
          47.67
         ],
         "yaxis": "y4"
        },
        {
         "line": {
          "color": "blue"
         },
         "mode": "lines+markers",
         "name": "Democrat",
         "showlegend": false,
         "type": "scatter",
         "x": [
          1976,
          1980,
          1984,
          1988,
          1992,
          1996,
          2000,
          2004,
          2008,
          2012,
          2016,
          2020
         ],
         "xaxis": "x5",
         "y": [
          55.27,
          47.18,
          37.89,
          41.71,
          42.65,
          44.04,
          43.15,
          43.58,
          49.7,
          48.35,
          46.17,
          48.59
         ],
         "yaxis": "y5"
        },
        {
         "line": {
          "color": "red"
         },
         "mode": "lines+markers",
         "name": "Republican",
         "showlegend": false,
         "type": "scatter",
         "x": [
          1976,
          1980,
          1984,
          1988,
          1992,
          1996,
          2000,
          2004,
          2008,
          2012,
          2016,
          2020
         ],
         "xaxis": "x5",
         "y": [
          44.22,
          49.3,
          61.9,
          57.97,
          43.44,
          48.73,
          55.96,
          56.02,
          49.37,
          50.39,
          49.83,
          49.93
         ],
         "yaxis": "y5"
        },
        {
         "line": {
          "color": "blue"
         },
         "mode": "lines+markers",
         "name": "Democrat",
         "showlegend": false,
         "type": "scatter",
         "x": [
          1976,
          1980,
          1984,
          1988,
          1992,
          1996,
          2000,
          2004,
          2008,
          2012,
          2016,
          2020
         ],
         "xaxis": "x6",
         "y": [
          50.4,
          42.48,
          45.99,
          48.39,
          45.15,
          49.23,
          50.61,
          50.92,
          54.49,
          52.08,
          47.85,
          50.01
         ],
         "yaxis": "y6"
        },
        {
         "line": {
          "color": "red"
         },
         "mode": "lines+markers",
         "name": "Republican",
         "showlegend": false,
         "type": "scatter",
         "x": [
          1976,
          1980,
          1984,
          1988,
          1992,
          1996,
          2000,
          2004,
          2008,
          2012,
          2016,
          2020
         ],
         "xaxis": "x6",
         "y": [
          47.73,
          49.59,
          53.34,
          50.7,
          36.13,
          40.01,
          46.44,
          48.42,
          44.17,
          46.68,
          48.58,
          48.84
         ],
         "yaxis": "y6"
        },
        {
         "line": {
          "color": "blue"
         },
         "mode": "lines+markers",
         "name": "Democrat",
         "showlegend": false,
         "type": "scatter",
         "x": [
          1976,
          1980,
          1984,
          1988,
          1992,
          1996,
          2000,
          2004,
          2008,
          2012,
          2016,
          2020
         ],
         "xaxis": "x7",
         "y": [
          49.5,
          43.18,
          45.02,
          51.41,
          41.13,
          48.81,
          47.83,
          49.7,
          56.22,
          52.78,
          46.45,
          49.45
         ],
         "yaxis": "y7"
        },
        {
         "line": {
          "color": "red"
         },
         "mode": "lines+markers",
         "name": "Republican",
         "showlegend": false,
         "type": "scatter",
         "x": [
          1976,
          1980,
          1984,
          1988,
          1992,
          1996,
          2000,
          2004,
          2008,
          2012,
          2016,
          2020
         ],
         "xaxis": "x7",
         "y": [
          47.83,
          47.9,
          54.19,
          47.8,
          36.78,
          38.48,
          47.61,
          49.32,
          42.31,
          45.94,
          47.22,
          48.82
         ],
         "yaxis": "y7"
        }
       ],
       "layout": {
        "annotations": [
         {
          "font": {
           "size": 16
          },
          "showarrow": false,
          "text": "ARIZONA",
          "x": 0.5,
          "xanchor": "center",
          "xref": "paper",
          "y": 1,
          "yanchor": "bottom",
          "yref": "paper"
         },
         {
          "font": {
           "size": 16
          },
          "showarrow": false,
          "text": "GEORGIA",
          "x": 0.5,
          "xanchor": "center",
          "xref": "paper",
          "y": 0.8428571428571427,
          "yanchor": "bottom",
          "yref": "paper"
         },
         {
          "font": {
           "size": 16
          },
          "showarrow": false,
          "text": "MICHIGAN",
          "x": 0.5,
          "xanchor": "center",
          "xref": "paper",
          "y": 0.6857142857142857,
          "yanchor": "bottom",
          "yref": "paper"
         },
         {
          "font": {
           "size": 16
          },
          "showarrow": false,
          "text": "NEVADA",
          "x": 0.5,
          "xanchor": "center",
          "xref": "paper",
          "y": 0.5285714285714286,
          "yanchor": "bottom",
          "yref": "paper"
         },
         {
          "font": {
           "size": 16
          },
          "showarrow": false,
          "text": "NORTH CAROLINA",
          "x": 0.5,
          "xanchor": "center",
          "xref": "paper",
          "y": 0.3714285714285714,
          "yanchor": "bottom",
          "yref": "paper"
         },
         {
          "font": {
           "size": 16
          },
          "showarrow": false,
          "text": "PENNSYLVANIA",
          "x": 0.5,
          "xanchor": "center",
          "xref": "paper",
          "y": 0.21428571428571427,
          "yanchor": "bottom",
          "yref": "paper"
         },
         {
          "font": {
           "size": 16
          },
          "showarrow": false,
          "text": "WISCONSIN",
          "x": 0.5,
          "xanchor": "center",
          "xref": "paper",
          "y": 0.05714285714285713,
          "yanchor": "bottom",
          "yref": "paper"
         }
        ],
        "height": 2100,
        "showlegend": true,
        "template": {
         "data": {
          "bar": [
           {
            "error_x": {
             "color": "#2a3f5f"
            },
            "error_y": {
             "color": "#2a3f5f"
            },
            "marker": {
             "line": {
              "color": "#E5ECF6",
              "width": 0.5
             },
             "pattern": {
              "fillmode": "overlay",
              "size": 10,
              "solidity": 0.2
             }
            },
            "type": "bar"
           }
          ],
          "barpolar": [
           {
            "marker": {
             "line": {
              "color": "#E5ECF6",
              "width": 0.5
             },
             "pattern": {
              "fillmode": "overlay",
              "size": 10,
              "solidity": 0.2
             }
            },
            "type": "barpolar"
           }
          ],
          "carpet": [
           {
            "aaxis": {
             "endlinecolor": "#2a3f5f",
             "gridcolor": "white",
             "linecolor": "white",
             "minorgridcolor": "white",
             "startlinecolor": "#2a3f5f"
            },
            "baxis": {
             "endlinecolor": "#2a3f5f",
             "gridcolor": "white",
             "linecolor": "white",
             "minorgridcolor": "white",
             "startlinecolor": "#2a3f5f"
            },
            "type": "carpet"
           }
          ],
          "choropleth": [
           {
            "colorbar": {
             "outlinewidth": 0,
             "ticks": ""
            },
            "type": "choropleth"
           }
          ],
          "contour": [
           {
            "colorbar": {
             "outlinewidth": 0,
             "ticks": ""
            },
            "colorscale": [
             [
              0,
              "#0d0887"
             ],
             [
              0.1111111111111111,
              "#46039f"
             ],
             [
              0.2222222222222222,
              "#7201a8"
             ],
             [
              0.3333333333333333,
              "#9c179e"
             ],
             [
              0.4444444444444444,
              "#bd3786"
             ],
             [
              0.5555555555555556,
              "#d8576b"
             ],
             [
              0.6666666666666666,
              "#ed7953"
             ],
             [
              0.7777777777777778,
              "#fb9f3a"
             ],
             [
              0.8888888888888888,
              "#fdca26"
             ],
             [
              1,
              "#f0f921"
             ]
            ],
            "type": "contour"
           }
          ],
          "contourcarpet": [
           {
            "colorbar": {
             "outlinewidth": 0,
             "ticks": ""
            },
            "type": "contourcarpet"
           }
          ],
          "heatmap": [
           {
            "colorbar": {
             "outlinewidth": 0,
             "ticks": ""
            },
            "colorscale": [
             [
              0,
              "#0d0887"
             ],
             [
              0.1111111111111111,
              "#46039f"
             ],
             [
              0.2222222222222222,
              "#7201a8"
             ],
             [
              0.3333333333333333,
              "#9c179e"
             ],
             [
              0.4444444444444444,
              "#bd3786"
             ],
             [
              0.5555555555555556,
              "#d8576b"
             ],
             [
              0.6666666666666666,
              "#ed7953"
             ],
             [
              0.7777777777777778,
              "#fb9f3a"
             ],
             [
              0.8888888888888888,
              "#fdca26"
             ],
             [
              1,
              "#f0f921"
             ]
            ],
            "type": "heatmap"
           }
          ],
          "heatmapgl": [
           {
            "colorbar": {
             "outlinewidth": 0,
             "ticks": ""
            },
            "colorscale": [
             [
              0,
              "#0d0887"
             ],
             [
              0.1111111111111111,
              "#46039f"
             ],
             [
              0.2222222222222222,
              "#7201a8"
             ],
             [
              0.3333333333333333,
              "#9c179e"
             ],
             [
              0.4444444444444444,
              "#bd3786"
             ],
             [
              0.5555555555555556,
              "#d8576b"
             ],
             [
              0.6666666666666666,
              "#ed7953"
             ],
             [
              0.7777777777777778,
              "#fb9f3a"
             ],
             [
              0.8888888888888888,
              "#fdca26"
             ],
             [
              1,
              "#f0f921"
             ]
            ],
            "type": "heatmapgl"
           }
          ],
          "histogram": [
           {
            "marker": {
             "pattern": {
              "fillmode": "overlay",
              "size": 10,
              "solidity": 0.2
             }
            },
            "type": "histogram"
           }
          ],
          "histogram2d": [
           {
            "colorbar": {
             "outlinewidth": 0,
             "ticks": ""
            },
            "colorscale": [
             [
              0,
              "#0d0887"
             ],
             [
              0.1111111111111111,
              "#46039f"
             ],
             [
              0.2222222222222222,
              "#7201a8"
             ],
             [
              0.3333333333333333,
              "#9c179e"
             ],
             [
              0.4444444444444444,
              "#bd3786"
             ],
             [
              0.5555555555555556,
              "#d8576b"
             ],
             [
              0.6666666666666666,
              "#ed7953"
             ],
             [
              0.7777777777777778,
              "#fb9f3a"
             ],
             [
              0.8888888888888888,
              "#fdca26"
             ],
             [
              1,
              "#f0f921"
             ]
            ],
            "type": "histogram2d"
           }
          ],
          "histogram2dcontour": [
           {
            "colorbar": {
             "outlinewidth": 0,
             "ticks": ""
            },
            "colorscale": [
             [
              0,
              "#0d0887"
             ],
             [
              0.1111111111111111,
              "#46039f"
             ],
             [
              0.2222222222222222,
              "#7201a8"
             ],
             [
              0.3333333333333333,
              "#9c179e"
             ],
             [
              0.4444444444444444,
              "#bd3786"
             ],
             [
              0.5555555555555556,
              "#d8576b"
             ],
             [
              0.6666666666666666,
              "#ed7953"
             ],
             [
              0.7777777777777778,
              "#fb9f3a"
             ],
             [
              0.8888888888888888,
              "#fdca26"
             ],
             [
              1,
              "#f0f921"
             ]
            ],
            "type": "histogram2dcontour"
           }
          ],
          "mesh3d": [
           {
            "colorbar": {
             "outlinewidth": 0,
             "ticks": ""
            },
            "type": "mesh3d"
           }
          ],
          "parcoords": [
           {
            "line": {
             "colorbar": {
              "outlinewidth": 0,
              "ticks": ""
             }
            },
            "type": "parcoords"
           }
          ],
          "pie": [
           {
            "automargin": true,
            "type": "pie"
           }
          ],
          "scatter": [
           {
            "fillpattern": {
             "fillmode": "overlay",
             "size": 10,
             "solidity": 0.2
            },
            "type": "scatter"
           }
          ],
          "scatter3d": [
           {
            "line": {
             "colorbar": {
              "outlinewidth": 0,
              "ticks": ""
             }
            },
            "marker": {
             "colorbar": {
              "outlinewidth": 0,
              "ticks": ""
             }
            },
            "type": "scatter3d"
           }
          ],
          "scattercarpet": [
           {
            "marker": {
             "colorbar": {
              "outlinewidth": 0,
              "ticks": ""
             }
            },
            "type": "scattercarpet"
           }
          ],
          "scattergeo": [
           {
            "marker": {
             "colorbar": {
              "outlinewidth": 0,
              "ticks": ""
             }
            },
            "type": "scattergeo"
           }
          ],
          "scattergl": [
           {
            "marker": {
             "colorbar": {
              "outlinewidth": 0,
              "ticks": ""
             }
            },
            "type": "scattergl"
           }
          ],
          "scattermapbox": [
           {
            "marker": {
             "colorbar": {
              "outlinewidth": 0,
              "ticks": ""
             }
            },
            "type": "scattermapbox"
           }
          ],
          "scatterpolar": [
           {
            "marker": {
             "colorbar": {
              "outlinewidth": 0,
              "ticks": ""
             }
            },
            "type": "scatterpolar"
           }
          ],
          "scatterpolargl": [
           {
            "marker": {
             "colorbar": {
              "outlinewidth": 0,
              "ticks": ""
             }
            },
            "type": "scatterpolargl"
           }
          ],
          "scatterternary": [
           {
            "marker": {
             "colorbar": {
              "outlinewidth": 0,
              "ticks": ""
             }
            },
            "type": "scatterternary"
           }
          ],
          "surface": [
           {
            "colorbar": {
             "outlinewidth": 0,
             "ticks": ""
            },
            "colorscale": [
             [
              0,
              "#0d0887"
             ],
             [
              0.1111111111111111,
              "#46039f"
             ],
             [
              0.2222222222222222,
              "#7201a8"
             ],
             [
              0.3333333333333333,
              "#9c179e"
             ],
             [
              0.4444444444444444,
              "#bd3786"
             ],
             [
              0.5555555555555556,
              "#d8576b"
             ],
             [
              0.6666666666666666,
              "#ed7953"
             ],
             [
              0.7777777777777778,
              "#fb9f3a"
             ],
             [
              0.8888888888888888,
              "#fdca26"
             ],
             [
              1,
              "#f0f921"
             ]
            ],
            "type": "surface"
           }
          ],
          "table": [
           {
            "cells": {
             "fill": {
              "color": "#EBF0F8"
             },
             "line": {
              "color": "white"
             }
            },
            "header": {
             "fill": {
              "color": "#C8D4E3"
             },
             "line": {
              "color": "white"
             }
            },
            "type": "table"
           }
          ]
         },
         "layout": {
          "annotationdefaults": {
           "arrowcolor": "#2a3f5f",
           "arrowhead": 0,
           "arrowwidth": 1
          },
          "autotypenumbers": "strict",
          "coloraxis": {
           "colorbar": {
            "outlinewidth": 0,
            "ticks": ""
           }
          },
          "colorscale": {
           "diverging": [
            [
             0,
             "#8e0152"
            ],
            [
             0.1,
             "#c51b7d"
            ],
            [
             0.2,
             "#de77ae"
            ],
            [
             0.3,
             "#f1b6da"
            ],
            [
             0.4,
             "#fde0ef"
            ],
            [
             0.5,
             "#f7f7f7"
            ],
            [
             0.6,
             "#e6f5d0"
            ],
            [
             0.7,
             "#b8e186"
            ],
            [
             0.8,
             "#7fbc41"
            ],
            [
             0.9,
             "#4d9221"
            ],
            [
             1,
             "#276419"
            ]
           ],
           "sequential": [
            [
             0,
             "#0d0887"
            ],
            [
             0.1111111111111111,
             "#46039f"
            ],
            [
             0.2222222222222222,
             "#7201a8"
            ],
            [
             0.3333333333333333,
             "#9c179e"
            ],
            [
             0.4444444444444444,
             "#bd3786"
            ],
            [
             0.5555555555555556,
             "#d8576b"
            ],
            [
             0.6666666666666666,
             "#ed7953"
            ],
            [
             0.7777777777777778,
             "#fb9f3a"
            ],
            [
             0.8888888888888888,
             "#fdca26"
            ],
            [
             1,
             "#f0f921"
            ]
           ],
           "sequentialminus": [
            [
             0,
             "#0d0887"
            ],
            [
             0.1111111111111111,
             "#46039f"
            ],
            [
             0.2222222222222222,
             "#7201a8"
            ],
            [
             0.3333333333333333,
             "#9c179e"
            ],
            [
             0.4444444444444444,
             "#bd3786"
            ],
            [
             0.5555555555555556,
             "#d8576b"
            ],
            [
             0.6666666666666666,
             "#ed7953"
            ],
            [
             0.7777777777777778,
             "#fb9f3a"
            ],
            [
             0.8888888888888888,
             "#fdca26"
            ],
            [
             1,
             "#f0f921"
            ]
           ]
          },
          "colorway": [
           "#636efa",
           "#EF553B",
           "#00cc96",
           "#ab63fa",
           "#FFA15A",
           "#19d3f3",
           "#FF6692",
           "#B6E880",
           "#FF97FF",
           "#FECB52"
          ],
          "font": {
           "color": "#2a3f5f"
          },
          "geo": {
           "bgcolor": "white",
           "lakecolor": "white",
           "landcolor": "#E5ECF6",
           "showlakes": true,
           "showland": true,
           "subunitcolor": "white"
          },
          "hoverlabel": {
           "align": "left"
          },
          "hovermode": "closest",
          "mapbox": {
           "style": "light"
          },
          "paper_bgcolor": "white",
          "plot_bgcolor": "#E5ECF6",
          "polar": {
           "angularaxis": {
            "gridcolor": "white",
            "linecolor": "white",
            "ticks": ""
           },
           "bgcolor": "#E5ECF6",
           "radialaxis": {
            "gridcolor": "white",
            "linecolor": "white",
            "ticks": ""
           }
          },
          "scene": {
           "xaxis": {
            "backgroundcolor": "#E5ECF6",
            "gridcolor": "white",
            "gridwidth": 2,
            "linecolor": "white",
            "showbackground": true,
            "ticks": "",
            "zerolinecolor": "white"
           },
           "yaxis": {
            "backgroundcolor": "#E5ECF6",
            "gridcolor": "white",
            "gridwidth": 2,
            "linecolor": "white",
            "showbackground": true,
            "ticks": "",
            "zerolinecolor": "white"
           },
           "zaxis": {
            "backgroundcolor": "#E5ECF6",
            "gridcolor": "white",
            "gridwidth": 2,
            "linecolor": "white",
            "showbackground": true,
            "ticks": "",
            "zerolinecolor": "white"
           }
          },
          "shapedefaults": {
           "line": {
            "color": "#2a3f5f"
           }
          },
          "ternary": {
           "aaxis": {
            "gridcolor": "white",
            "linecolor": "white",
            "ticks": ""
           },
           "baxis": {
            "gridcolor": "white",
            "linecolor": "white",
            "ticks": ""
           },
           "bgcolor": "#E5ECF6",
           "caxis": {
            "gridcolor": "white",
            "linecolor": "white",
            "ticks": ""
           }
          },
          "title": {
           "x": 0.05
          },
          "xaxis": {
           "automargin": true,
           "gridcolor": "white",
           "linecolor": "white",
           "ticks": "",
           "title": {
            "standoff": 15
           },
           "zerolinecolor": "white",
           "zerolinewidth": 2
          },
          "yaxis": {
           "automargin": true,
           "gridcolor": "white",
           "linecolor": "white",
           "ticks": "",
           "title": {
            "standoff": 15
           },
           "zerolinecolor": "white",
           "zerolinewidth": 2
          }
         }
        },
        "title": {
         "text": "Vote Share Over Time by State"
        },
        "xaxis": {
         "anchor": "y",
         "domain": [
          0,
          1
         ],
         "matches": "x7",
         "showticklabels": false,
         "title": {
          "text": "Year"
         }
        },
        "xaxis2": {
         "anchor": "y2",
         "domain": [
          0,
          1
         ],
         "matches": "x7",
         "showticklabels": false
        },
        "xaxis3": {
         "anchor": "y3",
         "domain": [
          0,
          1
         ],
         "matches": "x7",
         "showticklabels": false
        },
        "xaxis4": {
         "anchor": "y4",
         "domain": [
          0,
          1
         ],
         "matches": "x7",
         "showticklabels": false
        },
        "xaxis5": {
         "anchor": "y5",
         "domain": [
          0,
          1
         ],
         "matches": "x7",
         "showticklabels": false
        },
        "xaxis6": {
         "anchor": "y6",
         "domain": [
          0,
          1
         ],
         "matches": "x7",
         "showticklabels": false
        },
        "xaxis7": {
         "anchor": "y7",
         "domain": [
          0,
          1
         ]
        },
        "yaxis": {
         "anchor": "x",
         "domain": [
          0.9428571428571428,
          1
         ],
         "title": {
          "text": "Vote Share (%)"
         }
        },
        "yaxis2": {
         "anchor": "x2",
         "domain": [
          0.7857142857142856,
          0.8428571428571427
         ]
        },
        "yaxis3": {
         "anchor": "x3",
         "domain": [
          0.6285714285714286,
          0.6857142857142857
         ]
        },
        "yaxis4": {
         "anchor": "x4",
         "domain": [
          0.4714285714285714,
          0.5285714285714286
         ]
        },
        "yaxis5": {
         "anchor": "x5",
         "domain": [
          0.3142857142857143,
          0.3714285714285714
         ]
        },
        "yaxis6": {
         "anchor": "x6",
         "domain": [
          0.15714285714285714,
          0.21428571428571427
         ]
        },
        "yaxis7": {
         "anchor": "x7",
         "domain": [
          0,
          0.05714285714285713
         ]
        }
       }
      }
     },
     "metadata": {},
     "output_type": "display_data"
    }
   ],
   "source": [
    "df = party_share_df.reset_index()\n",
    "\n",
    "# Create subplots\n",
    "states = df['state'].unique()\n",
    "fig = make_subplots(rows=len(states), cols=1, shared_xaxes=True, \n",
    "                    vertical_spacing=0.1, subplot_titles=states)\n",
    "\n",
    "# Add traces for each state\n",
    "for i, state in enumerate(states):\n",
    "    state_data = df[df['state'] == state]\n",
    "    \n",
    "    # Add Democrat trace; show legend only for the first subplot\n",
    "    fig.add_trace(go.Scatter(\n",
    "        x=state_data['year'],\n",
    "        y=state_data['DEMOCRAT'],\n",
    "        mode='lines+markers',\n",
    "        name='Democrat',\n",
    "        line=dict(color='blue'),\n",
    "        showlegend=(i == 0)  # Show legend only for the first state\n",
    "    ), row=i + 1, col=1)\n",
    "    \n",
    "    # Add Republican trace; show legend only for the first subplot\n",
    "    fig.add_trace(go.Scatter(\n",
    "        x=state_data['year'],\n",
    "        y=state_data['REPUBLICAN'],\n",
    "        mode='lines+markers',\n",
    "        name='Republican',\n",
    "        line=dict(color='red'),\n",
    "        showlegend=(i == 0)  # Show legend only for the first state\n",
    "    ), row=i + 1, col=1)\n",
    "\n",
    "# Update layout\n",
    "fig.update_layout(\n",
    "    title='Vote Share Over Time by State',\n",
    "    xaxis_title='Year',\n",
    "    yaxis_title='Vote Share (%)',\n",
    "    height=300 * len(states),  # Adjust height based on the number of states\n",
    "    showlegend=True\n",
    ")\n",
    "\n",
    "# Show the figure\n",
    "fig.show()"
   ]
  },
  {
   "cell_type": "markdown",
   "metadata": {},
   "source": [
    "Visually, we can see that many states seem to move up and down together. {Add more detail here.}\n",
    "\n",
    "But let's quantify this rigorously."
   ]
  },
  {
   "cell_type": "code",
   "execution_count": 112,
   "metadata": {},
   "outputs": [
    {
     "data": {
      "text/html": [
       "<div>\n",
       "<style scoped>\n",
       "    .dataframe tbody tr th:only-of-type {\n",
       "        vertical-align: middle;\n",
       "    }\n",
       "\n",
       "    .dataframe tbody tr th {\n",
       "        vertical-align: top;\n",
       "    }\n",
       "\n",
       "    .dataframe thead th {\n",
       "        text-align: right;\n",
       "    }\n",
       "</style>\n",
       "<table border=\"1\" class=\"dataframe\">\n",
       "  <thead>\n",
       "    <tr style=\"text-align: right;\">\n",
       "      <th>state</th>\n",
       "      <th>ARIZONA</th>\n",
       "      <th>GEORGIA</th>\n",
       "      <th>MICHIGAN</th>\n",
       "      <th>NEVADA</th>\n",
       "      <th>NORTH CAROLINA</th>\n",
       "      <th>PENNSYLVANIA</th>\n",
       "      <th>WISCONSIN</th>\n",
       "    </tr>\n",
       "    <tr>\n",
       "      <th>year</th>\n",
       "      <th></th>\n",
       "      <th></th>\n",
       "      <th></th>\n",
       "      <th></th>\n",
       "      <th></th>\n",
       "      <th></th>\n",
       "      <th></th>\n",
       "    </tr>\n",
       "  </thead>\n",
       "  <tbody>\n",
       "    <tr>\n",
       "      <th>1976</th>\n",
       "      <td>39.80</td>\n",
       "      <td>66.94</td>\n",
       "      <td>46.47</td>\n",
       "      <td>45.81</td>\n",
       "      <td>55.27</td>\n",
       "      <td>50.40</td>\n",
       "      <td>49.50</td>\n",
       "    </tr>\n",
       "    <tr>\n",
       "      <th>1980</th>\n",
       "      <td>28.24</td>\n",
       "      <td>55.80</td>\n",
       "      <td>42.50</td>\n",
       "      <td>27.36</td>\n",
       "      <td>47.18</td>\n",
       "      <td>42.48</td>\n",
       "      <td>43.18</td>\n",
       "    </tr>\n",
       "    <tr>\n",
       "      <th>1984</th>\n",
       "      <td>32.54</td>\n",
       "      <td>39.79</td>\n",
       "      <td>40.24</td>\n",
       "      <td>32.42</td>\n",
       "      <td>37.89</td>\n",
       "      <td>45.99</td>\n",
       "      <td>45.02</td>\n",
       "    </tr>\n",
       "    <tr>\n",
       "      <th>1988</th>\n",
       "      <td>38.74</td>\n",
       "      <td>39.50</td>\n",
       "      <td>45.67</td>\n",
       "      <td>38.68</td>\n",
       "      <td>41.71</td>\n",
       "      <td>48.39</td>\n",
       "      <td>51.41</td>\n",
       "    </tr>\n",
       "    <tr>\n",
       "      <th>1992</th>\n",
       "      <td>36.52</td>\n",
       "      <td>43.47</td>\n",
       "      <td>43.77</td>\n",
       "      <td>37.36</td>\n",
       "      <td>42.65</td>\n",
       "      <td>45.15</td>\n",
       "      <td>41.13</td>\n",
       "    </tr>\n",
       "    <tr>\n",
       "      <th>1996</th>\n",
       "      <td>46.52</td>\n",
       "      <td>45.84</td>\n",
       "      <td>51.69</td>\n",
       "      <td>43.93</td>\n",
       "      <td>44.04</td>\n",
       "      <td>49.23</td>\n",
       "      <td>48.81</td>\n",
       "    </tr>\n",
       "    <tr>\n",
       "      <th>2000</th>\n",
       "      <td>44.73</td>\n",
       "      <td>43.21</td>\n",
       "      <td>51.28</td>\n",
       "      <td>45.94</td>\n",
       "      <td>43.15</td>\n",
       "      <td>50.61</td>\n",
       "      <td>47.83</td>\n",
       "    </tr>\n",
       "    <tr>\n",
       "      <th>2004</th>\n",
       "      <td>44.40</td>\n",
       "      <td>41.37</td>\n",
       "      <td>51.23</td>\n",
       "      <td>47.88</td>\n",
       "      <td>43.58</td>\n",
       "      <td>50.92</td>\n",
       "      <td>49.70</td>\n",
       "    </tr>\n",
       "    <tr>\n",
       "      <th>2008</th>\n",
       "      <td>45.12</td>\n",
       "      <td>46.99</td>\n",
       "      <td>57.43</td>\n",
       "      <td>55.15</td>\n",
       "      <td>49.70</td>\n",
       "      <td>54.49</td>\n",
       "      <td>56.22</td>\n",
       "    </tr>\n",
       "    <tr>\n",
       "      <th>2012</th>\n",
       "      <td>44.59</td>\n",
       "      <td>45.51</td>\n",
       "      <td>54.21</td>\n",
       "      <td>52.36</td>\n",
       "      <td>48.35</td>\n",
       "      <td>52.08</td>\n",
       "      <td>52.78</td>\n",
       "    </tr>\n",
       "    <tr>\n",
       "      <th>2016</th>\n",
       "      <td>45.13</td>\n",
       "      <td>45.64</td>\n",
       "      <td>47.27</td>\n",
       "      <td>47.92</td>\n",
       "      <td>46.17</td>\n",
       "      <td>47.85</td>\n",
       "      <td>46.45</td>\n",
       "    </tr>\n",
       "    <tr>\n",
       "      <th>2020</th>\n",
       "      <td>49.36</td>\n",
       "      <td>49.47</td>\n",
       "      <td>50.62</td>\n",
       "      <td>50.06</td>\n",
       "      <td>48.59</td>\n",
       "      <td>50.01</td>\n",
       "      <td>49.45</td>\n",
       "    </tr>\n",
       "  </tbody>\n",
       "</table>\n",
       "</div>"
      ],
      "text/plain": [
       "state  ARIZONA  GEORGIA  MICHIGAN  NEVADA  NORTH CAROLINA  PENNSYLVANIA  \\\n",
       "year                                                                      \n",
       "1976     39.80    66.94     46.47   45.81           55.27         50.40   \n",
       "1980     28.24    55.80     42.50   27.36           47.18         42.48   \n",
       "1984     32.54    39.79     40.24   32.42           37.89         45.99   \n",
       "1988     38.74    39.50     45.67   38.68           41.71         48.39   \n",
       "1992     36.52    43.47     43.77   37.36           42.65         45.15   \n",
       "1996     46.52    45.84     51.69   43.93           44.04         49.23   \n",
       "2000     44.73    43.21     51.28   45.94           43.15         50.61   \n",
       "2004     44.40    41.37     51.23   47.88           43.58         50.92   \n",
       "2008     45.12    46.99     57.43   55.15           49.70         54.49   \n",
       "2012     44.59    45.51     54.21   52.36           48.35         52.08   \n",
       "2016     45.13    45.64     47.27   47.92           46.17         47.85   \n",
       "2020     49.36    49.47     50.62   50.06           48.59         50.01   \n",
       "\n",
       "state  WISCONSIN  \n",
       "year              \n",
       "1976       49.50  \n",
       "1980       43.18  \n",
       "1984       45.02  \n",
       "1988       51.41  \n",
       "1992       41.13  \n",
       "1996       48.81  \n",
       "2000       47.83  \n",
       "2004       49.70  \n",
       "2008       56.22  \n",
       "2012       52.78  \n",
       "2016       46.45  \n",
       "2020       49.45  "
      ]
     },
     "execution_count": 112,
     "metadata": {},
     "output_type": "execute_result"
    }
   ],
   "source": [
    "dem_df = party_share_df.reset_index().loc[:, [\"year\", \"state\", \"DEMOCRAT\"]]\n",
    "\n",
    "state_dem_df = dem_df.pivot(index = [\"year\"], columns=\"state\", values=\"DEMOCRAT\")\n",
    "\n",
    "state_dem_df"
   ]
  },
  {
   "cell_type": "code",
   "execution_count": 151,
   "metadata": {},
   "outputs": [],
   "source": [
    "import plotly.express as px\n",
    "import numpy as np\n",
    "\n",
    "correlation_matrix = state_dem_df.corr()\n",
    "rounded_corr = correlation_matrix.round(2)"
   ]
  },
  {
   "cell_type": "code",
   "execution_count": 158,
   "metadata": {},
   "outputs": [
    {
     "data": {
      "application/vnd.plotly.v1+json": {
       "config": {
        "plotlyServerURL": "https://plot.ly"
       },
       "data": [
        {
         "coloraxis": "coloraxis",
         "hovertemplate": "state: %{x}<br>state: %{y}<br>color: %{z}<extra></extra>",
         "name": "0",
         "texttemplate": "%{z}",
         "type": "heatmap",
         "x": [
          "ARIZONA",
          "GEORGIA",
          "MICHIGAN",
          "NEVADA",
          "NORTH CAROLINA",
          "PENNSYLVANIA",
          "WISCONSIN"
         ],
         "xaxis": "x",
         "y": [
          "ARIZONA",
          "GEORGIA",
          "MICHIGAN",
          "NEVADA",
          "NORTH CAROLINA",
          "PENNSYLVANIA",
          "WISCONSIN"
         ],
         "yaxis": "y",
         "z": [
          [
           null,
           -0.14,
           0.81,
           0.9,
           0.27,
           0.79,
           0.6
          ],
          [
           -0.14,
           null,
           -0.06,
           0.01,
           0.85,
           -0.03,
           -0.01
          ],
          [
           0.81,
           -0.06,
           null,
           0.89,
           0.4,
           0.89,
           0.8
          ],
          [
           0.9,
           0.01,
           0.89,
           null,
           0.48,
           0.92,
           0.76
          ],
          [
           0.27,
           0.85,
           0.4,
           0.48,
           null,
           0.4,
           0.4
          ],
          [
           0.79,
           -0.03,
           0.89,
           0.92,
           0.4,
           null,
           0.9
          ],
          [
           0.6,
           -0.01,
           0.8,
           0.76,
           0.4,
           0.9,
           null
          ]
         ]
        },
        {
         "colorscale": [
          [
           0,
           "gray"
          ],
          [
           1,
           "gray"
          ]
         ],
         "name": "Diagonal",
         "showscale": false,
         "type": "heatmap",
         "z": [
          [
           0,
           null,
           null,
           null,
           null,
           null,
           null
          ],
          [
           null,
           0,
           null,
           null,
           null,
           null,
           null
          ],
          [
           null,
           null,
           0,
           null,
           null,
           null,
           null
          ],
          [
           null,
           null,
           null,
           0,
           null,
           null,
           null
          ],
          [
           null,
           null,
           null,
           null,
           0,
           null,
           null
          ],
          [
           null,
           null,
           null,
           null,
           null,
           0,
           null
          ],
          [
           null,
           null,
           null,
           null,
           null,
           null,
           0
          ]
         ]
        }
       ],
       "layout": {
        "coloraxis": {
         "cmax": 1,
         "cmin": -1,
         "colorbar": {
          "title": {
           "text": "Correlation"
          }
         },
         "colorscale": [
          [
           0,
           "rgb(252,251,253)"
          ],
          [
           0.125,
           "rgb(239,237,245)"
          ],
          [
           0.25,
           "rgb(218,218,235)"
          ],
          [
           0.375,
           "rgb(188,189,220)"
          ],
          [
           0.5,
           "rgb(158,154,200)"
          ],
          [
           0.625,
           "rgb(128,125,186)"
          ],
          [
           0.75,
           "rgb(106,81,163)"
          ],
          [
           0.875,
           "rgb(84,39,143)"
          ],
          [
           1,
           "rgb(63,0,125)"
          ]
         ]
        },
        "paper_bgcolor": "white",
        "plot_bgcolor": "white",
        "template": {
         "data": {
          "bar": [
           {
            "error_x": {
             "color": "#2a3f5f"
            },
            "error_y": {
             "color": "#2a3f5f"
            },
            "marker": {
             "line": {
              "color": "#E5ECF6",
              "width": 0.5
             },
             "pattern": {
              "fillmode": "overlay",
              "size": 10,
              "solidity": 0.2
             }
            },
            "type": "bar"
           }
          ],
          "barpolar": [
           {
            "marker": {
             "line": {
              "color": "#E5ECF6",
              "width": 0.5
             },
             "pattern": {
              "fillmode": "overlay",
              "size": 10,
              "solidity": 0.2
             }
            },
            "type": "barpolar"
           }
          ],
          "carpet": [
           {
            "aaxis": {
             "endlinecolor": "#2a3f5f",
             "gridcolor": "white",
             "linecolor": "white",
             "minorgridcolor": "white",
             "startlinecolor": "#2a3f5f"
            },
            "baxis": {
             "endlinecolor": "#2a3f5f",
             "gridcolor": "white",
             "linecolor": "white",
             "minorgridcolor": "white",
             "startlinecolor": "#2a3f5f"
            },
            "type": "carpet"
           }
          ],
          "choropleth": [
           {
            "colorbar": {
             "outlinewidth": 0,
             "ticks": ""
            },
            "type": "choropleth"
           }
          ],
          "contour": [
           {
            "colorbar": {
             "outlinewidth": 0,
             "ticks": ""
            },
            "colorscale": [
             [
              0,
              "#0d0887"
             ],
             [
              0.1111111111111111,
              "#46039f"
             ],
             [
              0.2222222222222222,
              "#7201a8"
             ],
             [
              0.3333333333333333,
              "#9c179e"
             ],
             [
              0.4444444444444444,
              "#bd3786"
             ],
             [
              0.5555555555555556,
              "#d8576b"
             ],
             [
              0.6666666666666666,
              "#ed7953"
             ],
             [
              0.7777777777777778,
              "#fb9f3a"
             ],
             [
              0.8888888888888888,
              "#fdca26"
             ],
             [
              1,
              "#f0f921"
             ]
            ],
            "type": "contour"
           }
          ],
          "contourcarpet": [
           {
            "colorbar": {
             "outlinewidth": 0,
             "ticks": ""
            },
            "type": "contourcarpet"
           }
          ],
          "heatmap": [
           {
            "colorbar": {
             "outlinewidth": 0,
             "ticks": ""
            },
            "colorscale": [
             [
              0,
              "#0d0887"
             ],
             [
              0.1111111111111111,
              "#46039f"
             ],
             [
              0.2222222222222222,
              "#7201a8"
             ],
             [
              0.3333333333333333,
              "#9c179e"
             ],
             [
              0.4444444444444444,
              "#bd3786"
             ],
             [
              0.5555555555555556,
              "#d8576b"
             ],
             [
              0.6666666666666666,
              "#ed7953"
             ],
             [
              0.7777777777777778,
              "#fb9f3a"
             ],
             [
              0.8888888888888888,
              "#fdca26"
             ],
             [
              1,
              "#f0f921"
             ]
            ],
            "type": "heatmap"
           }
          ],
          "heatmapgl": [
           {
            "colorbar": {
             "outlinewidth": 0,
             "ticks": ""
            },
            "colorscale": [
             [
              0,
              "#0d0887"
             ],
             [
              0.1111111111111111,
              "#46039f"
             ],
             [
              0.2222222222222222,
              "#7201a8"
             ],
             [
              0.3333333333333333,
              "#9c179e"
             ],
             [
              0.4444444444444444,
              "#bd3786"
             ],
             [
              0.5555555555555556,
              "#d8576b"
             ],
             [
              0.6666666666666666,
              "#ed7953"
             ],
             [
              0.7777777777777778,
              "#fb9f3a"
             ],
             [
              0.8888888888888888,
              "#fdca26"
             ],
             [
              1,
              "#f0f921"
             ]
            ],
            "type": "heatmapgl"
           }
          ],
          "histogram": [
           {
            "marker": {
             "pattern": {
              "fillmode": "overlay",
              "size": 10,
              "solidity": 0.2
             }
            },
            "type": "histogram"
           }
          ],
          "histogram2d": [
           {
            "colorbar": {
             "outlinewidth": 0,
             "ticks": ""
            },
            "colorscale": [
             [
              0,
              "#0d0887"
             ],
             [
              0.1111111111111111,
              "#46039f"
             ],
             [
              0.2222222222222222,
              "#7201a8"
             ],
             [
              0.3333333333333333,
              "#9c179e"
             ],
             [
              0.4444444444444444,
              "#bd3786"
             ],
             [
              0.5555555555555556,
              "#d8576b"
             ],
             [
              0.6666666666666666,
              "#ed7953"
             ],
             [
              0.7777777777777778,
              "#fb9f3a"
             ],
             [
              0.8888888888888888,
              "#fdca26"
             ],
             [
              1,
              "#f0f921"
             ]
            ],
            "type": "histogram2d"
           }
          ],
          "histogram2dcontour": [
           {
            "colorbar": {
             "outlinewidth": 0,
             "ticks": ""
            },
            "colorscale": [
             [
              0,
              "#0d0887"
             ],
             [
              0.1111111111111111,
              "#46039f"
             ],
             [
              0.2222222222222222,
              "#7201a8"
             ],
             [
              0.3333333333333333,
              "#9c179e"
             ],
             [
              0.4444444444444444,
              "#bd3786"
             ],
             [
              0.5555555555555556,
              "#d8576b"
             ],
             [
              0.6666666666666666,
              "#ed7953"
             ],
             [
              0.7777777777777778,
              "#fb9f3a"
             ],
             [
              0.8888888888888888,
              "#fdca26"
             ],
             [
              1,
              "#f0f921"
             ]
            ],
            "type": "histogram2dcontour"
           }
          ],
          "mesh3d": [
           {
            "colorbar": {
             "outlinewidth": 0,
             "ticks": ""
            },
            "type": "mesh3d"
           }
          ],
          "parcoords": [
           {
            "line": {
             "colorbar": {
              "outlinewidth": 0,
              "ticks": ""
             }
            },
            "type": "parcoords"
           }
          ],
          "pie": [
           {
            "automargin": true,
            "type": "pie"
           }
          ],
          "scatter": [
           {
            "fillpattern": {
             "fillmode": "overlay",
             "size": 10,
             "solidity": 0.2
            },
            "type": "scatter"
           }
          ],
          "scatter3d": [
           {
            "line": {
             "colorbar": {
              "outlinewidth": 0,
              "ticks": ""
             }
            },
            "marker": {
             "colorbar": {
              "outlinewidth": 0,
              "ticks": ""
             }
            },
            "type": "scatter3d"
           }
          ],
          "scattercarpet": [
           {
            "marker": {
             "colorbar": {
              "outlinewidth": 0,
              "ticks": ""
             }
            },
            "type": "scattercarpet"
           }
          ],
          "scattergeo": [
           {
            "marker": {
             "colorbar": {
              "outlinewidth": 0,
              "ticks": ""
             }
            },
            "type": "scattergeo"
           }
          ],
          "scattergl": [
           {
            "marker": {
             "colorbar": {
              "outlinewidth": 0,
              "ticks": ""
             }
            },
            "type": "scattergl"
           }
          ],
          "scattermapbox": [
           {
            "marker": {
             "colorbar": {
              "outlinewidth": 0,
              "ticks": ""
             }
            },
            "type": "scattermapbox"
           }
          ],
          "scatterpolar": [
           {
            "marker": {
             "colorbar": {
              "outlinewidth": 0,
              "ticks": ""
             }
            },
            "type": "scatterpolar"
           }
          ],
          "scatterpolargl": [
           {
            "marker": {
             "colorbar": {
              "outlinewidth": 0,
              "ticks": ""
             }
            },
            "type": "scatterpolargl"
           }
          ],
          "scatterternary": [
           {
            "marker": {
             "colorbar": {
              "outlinewidth": 0,
              "ticks": ""
             }
            },
            "type": "scatterternary"
           }
          ],
          "surface": [
           {
            "colorbar": {
             "outlinewidth": 0,
             "ticks": ""
            },
            "colorscale": [
             [
              0,
              "#0d0887"
             ],
             [
              0.1111111111111111,
              "#46039f"
             ],
             [
              0.2222222222222222,
              "#7201a8"
             ],
             [
              0.3333333333333333,
              "#9c179e"
             ],
             [
              0.4444444444444444,
              "#bd3786"
             ],
             [
              0.5555555555555556,
              "#d8576b"
             ],
             [
              0.6666666666666666,
              "#ed7953"
             ],
             [
              0.7777777777777778,
              "#fb9f3a"
             ],
             [
              0.8888888888888888,
              "#fdca26"
             ],
             [
              1,
              "#f0f921"
             ]
            ],
            "type": "surface"
           }
          ],
          "table": [
           {
            "cells": {
             "fill": {
              "color": "#EBF0F8"
             },
             "line": {
              "color": "white"
             }
            },
            "header": {
             "fill": {
              "color": "#C8D4E3"
             },
             "line": {
              "color": "white"
             }
            },
            "type": "table"
           }
          ]
         },
         "layout": {
          "annotationdefaults": {
           "arrowcolor": "#2a3f5f",
           "arrowhead": 0,
           "arrowwidth": 1
          },
          "autotypenumbers": "strict",
          "coloraxis": {
           "colorbar": {
            "outlinewidth": 0,
            "ticks": ""
           }
          },
          "colorscale": {
           "diverging": [
            [
             0,
             "#8e0152"
            ],
            [
             0.1,
             "#c51b7d"
            ],
            [
             0.2,
             "#de77ae"
            ],
            [
             0.3,
             "#f1b6da"
            ],
            [
             0.4,
             "#fde0ef"
            ],
            [
             0.5,
             "#f7f7f7"
            ],
            [
             0.6,
             "#e6f5d0"
            ],
            [
             0.7,
             "#b8e186"
            ],
            [
             0.8,
             "#7fbc41"
            ],
            [
             0.9,
             "#4d9221"
            ],
            [
             1,
             "#276419"
            ]
           ],
           "sequential": [
            [
             0,
             "#0d0887"
            ],
            [
             0.1111111111111111,
             "#46039f"
            ],
            [
             0.2222222222222222,
             "#7201a8"
            ],
            [
             0.3333333333333333,
             "#9c179e"
            ],
            [
             0.4444444444444444,
             "#bd3786"
            ],
            [
             0.5555555555555556,
             "#d8576b"
            ],
            [
             0.6666666666666666,
             "#ed7953"
            ],
            [
             0.7777777777777778,
             "#fb9f3a"
            ],
            [
             0.8888888888888888,
             "#fdca26"
            ],
            [
             1,
             "#f0f921"
            ]
           ],
           "sequentialminus": [
            [
             0,
             "#0d0887"
            ],
            [
             0.1111111111111111,
             "#46039f"
            ],
            [
             0.2222222222222222,
             "#7201a8"
            ],
            [
             0.3333333333333333,
             "#9c179e"
            ],
            [
             0.4444444444444444,
             "#bd3786"
            ],
            [
             0.5555555555555556,
             "#d8576b"
            ],
            [
             0.6666666666666666,
             "#ed7953"
            ],
            [
             0.7777777777777778,
             "#fb9f3a"
            ],
            [
             0.8888888888888888,
             "#fdca26"
            ],
            [
             1,
             "#f0f921"
            ]
           ]
          },
          "colorway": [
           "#636efa",
           "#EF553B",
           "#00cc96",
           "#ab63fa",
           "#FFA15A",
           "#19d3f3",
           "#FF6692",
           "#B6E880",
           "#FF97FF",
           "#FECB52"
          ],
          "font": {
           "color": "#2a3f5f"
          },
          "geo": {
           "bgcolor": "white",
           "lakecolor": "white",
           "landcolor": "#E5ECF6",
           "showlakes": true,
           "showland": true,
           "subunitcolor": "white"
          },
          "hoverlabel": {
           "align": "left"
          },
          "hovermode": "closest",
          "mapbox": {
           "style": "light"
          },
          "paper_bgcolor": "white",
          "plot_bgcolor": "#E5ECF6",
          "polar": {
           "angularaxis": {
            "gridcolor": "white",
            "linecolor": "white",
            "ticks": ""
           },
           "bgcolor": "#E5ECF6",
           "radialaxis": {
            "gridcolor": "white",
            "linecolor": "white",
            "ticks": ""
           }
          },
          "scene": {
           "xaxis": {
            "backgroundcolor": "#E5ECF6",
            "gridcolor": "white",
            "gridwidth": 2,
            "linecolor": "white",
            "showbackground": true,
            "ticks": "",
            "zerolinecolor": "white"
           },
           "yaxis": {
            "backgroundcolor": "#E5ECF6",
            "gridcolor": "white",
            "gridwidth": 2,
            "linecolor": "white",
            "showbackground": true,
            "ticks": "",
            "zerolinecolor": "white"
           },
           "zaxis": {
            "backgroundcolor": "#E5ECF6",
            "gridcolor": "white",
            "gridwidth": 2,
            "linecolor": "white",
            "showbackground": true,
            "ticks": "",
            "zerolinecolor": "white"
           }
          },
          "shapedefaults": {
           "line": {
            "color": "#2a3f5f"
           }
          },
          "ternary": {
           "aaxis": {
            "gridcolor": "white",
            "linecolor": "white",
            "ticks": ""
           },
           "baxis": {
            "gridcolor": "white",
            "linecolor": "white",
            "ticks": ""
           },
           "bgcolor": "#E5ECF6",
           "caxis": {
            "gridcolor": "white",
            "linecolor": "white",
            "ticks": ""
           }
          },
          "title": {
           "x": 0.05
          },
          "xaxis": {
           "automargin": true,
           "gridcolor": "white",
           "linecolor": "white",
           "ticks": "",
           "title": {
            "standoff": 15
           },
           "zerolinecolor": "white",
           "zerolinewidth": 2
          },
          "yaxis": {
           "automargin": true,
           "gridcolor": "white",
           "linecolor": "white",
           "ticks": "",
           "title": {
            "standoff": 15
           },
           "zerolinecolor": "white",
           "zerolinewidth": 2
          }
         }
        },
        "title": {
         "text": "Correlation Between Share of <b>DEMOCRATIC</b> vote in each state"
        },
        "xaxis": {
         "anchor": "y",
         "domain": [
          0,
          1
         ],
         "title": {
          "text": "Features"
         }
        },
        "yaxis": {
         "anchor": "x",
         "autorange": "reversed",
         "domain": [
          0,
          1
         ],
         "title": {
          "text": "Features"
         }
        }
       }
      }
     },
     "metadata": {},
     "output_type": "display_data"
    }
   ],
   "source": [
    "# Make the diagonal values None to hide them\n",
    "diagonal_mask = np.eye(rounded_corr.shape[0], dtype=bool)\n",
    "\n",
    "# Create a heatmap using Plotly with 'Purples' color scale\n",
    "fig = px.imshow(\n",
    "    rounded_corr,\n",
    "    text_auto=True,\n",
    "    color_continuous_scale='Purples',  # Using Purples color scale\n",
    "    title='Correlation Between Share of <b>DEMOCRATIC</b> vote in each state',\n",
    "    aspect='auto',\n",
    "    zmin=-1,\n",
    "    zmax=1\n",
    ")\n",
    "\n",
    "# Add the gray diagonal heatmap\n",
    "fig.add_trace(go.Heatmap(\n",
    "    z=np.where(diagonal_mask, 0.0, None),  # Set diagonal values to 0\n",
    "    colorscale=[[0, 'gray'], [1, 'gray']],  # Gray color for the diagonal\n",
    "    showscale=False,  # Do not show the color scale for the diagonal\n",
    "    name='Diagonal'\n",
    "))\n",
    "\n",
    "\n",
    "fig.update_layout(\n",
    "    xaxis_title='Features',\n",
    "    yaxis_title='Features',\n",
    "    coloraxis_colorbar=dict(title='Correlation'),\n",
    "    plot_bgcolor='white',  # Remove the shading behind the plot\n",
    "    paper_bgcolor='white',  # Set the background of the entire figure\n",
    "    xaxis=dict(gridcolor=None),  # Remove grid lines from the x-axis\n",
    "    yaxis=dict(gridcolor=None)   # Remove grid lines from the y-axis\n",
    ")\n",
    "\n",
    "# Show the figure\n",
    "fig.show()"
   ]
  },
  {
   "cell_type": "markdown",
   "metadata": {},
   "source": [
    "This shows convincingly that since 1976, the share of Democratic votes between swing states are **highly correlated with each other, not independent**. Because third-party candidates are insignificant in most elections, I would get an almost identical table if I plotted the correlation between Republican votes across swing states. \n",
    "\n",
    "Let's dig deeper to see which states are the most correlated with others and which are more independent of other states. Visually, Arizona and the Blue Wall states seem have a lot of high correlations <span style=\"color: purple;\"><b>(dark purple)</b></span> "
   ]
  }
 ],
 "metadata": {
  "kernelspec": {
   "display_name": "Python 3",
   "language": "python",
   "name": "python3"
  },
  "language_info": {
   "codemirror_mode": {
    "name": "ipython",
    "version": 3
   },
   "file_extension": ".py",
   "mimetype": "text/x-python",
   "name": "python",
   "nbconvert_exporter": "python",
   "pygments_lexer": "ipython3",
   "version": "3.12.7"
  }
 },
 "nbformat": 4,
 "nbformat_minor": 2
}
